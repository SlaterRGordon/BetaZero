{
 "cells": [
  {
   "attachments": {},
   "cell_type": "markdown",
   "metadata": {},
   "source": [
    "### Testing our chess-engine on a set of Engines"
   ]
  },
  {
   "cell_type": "code",
   "execution_count": 41,
   "metadata": {},
   "outputs": [
    {
     "name": "stdout",
     "output_type": "stream",
     "text": [
      "Requirement already satisfied: python-chess in c:\\users\\harry\\appdata\\local\\packages\\pythonsoftwarefoundation.python.3.9_qbz5n2kfra8p0\\localcache\\local-packages\\python39\\site-packages (1.999)\n",
      "Requirement already satisfied: chess<2,>=1 in c:\\users\\harry\\appdata\\local\\packages\\pythonsoftwarefoundation.python.3.9_qbz5n2kfra8p0\\localcache\\local-packages\\python39\\site-packages (from python-chess) (1.9.3)\n",
      "Note: you may need to restart the kernel to use updated packages.\n"
     ]
    },
    {
     "name": "stderr",
     "output_type": "stream",
     "text": [
      "WARNING: You are using pip version 22.0.4; however, version 22.3.1 is available.\n",
      "You should consider upgrading via the 'C:\\Users\\harry\\AppData\\Local\\Microsoft\\WindowsApps\\PythonSoftwareFoundation.Python.3.9_qbz5n2kfra8p0\\python.exe -m pip install --upgrade pip' command.\n"
     ]
    }
   ],
   "source": [
    "#%load_ext autoreload\n",
    "#%autoreload 2\n",
    "\n",
    "%pip install python-chess"
   ]
  },
  {
   "cell_type": "code",
   "execution_count": 43,
   "metadata": {},
   "outputs": [
    {
     "name": "stdout",
     "output_type": "stream",
     "text": [
      "r n b q k b n r\n",
      "p p p p p p p p\n",
      ". . . . . . . .\n",
      ". . . . . . . .\n",
      ". . . . . . . .\n",
      ". . . . . . . .\n",
      "P P P P P P P P\n",
      "R N B Q K B N R\n",
      "Score: PovScore(Cp(+25), WHITE)\n",
      "Score: PovScore(Cp(+34), WHITE)\n",
      "Score: PovScore(Cp(-37), BLACK)\n"
     ]
    },
    {
     "name": "stderr",
     "output_type": "stream",
     "text": [
      "Exception ignored in: <function Stockfish.__del__ at 0x0000015ABC905DC0>\n",
      "Traceback (most recent call last):\n",
      "  File \"C:\\Users\\harry\\AppData\\Local\\Packages\\PythonSoftwareFoundation.Python.3.9_qbz5n2kfra8p0\\LocalCache\\local-packages\\Python39\\site-packages\\stockfish\\models.py\", line 757, in __del__\n",
      "    if self._stockfish.poll() is None:\n",
      "AttributeError: 'Stockfish' object has no attribute '_stockfish'\n"
     ]
    },
    {
     "ename": "KeyboardInterrupt",
     "evalue": "",
     "output_type": "error",
     "traceback": [
      "\u001b[1;31m---------------------------------------------------------------------------\u001b[0m",
      "\u001b[1;31mKeyboardInterrupt\u001b[0m                         Traceback (most recent call last)",
      "Cell \u001b[1;32mIn [43], line 23\u001b[0m\n\u001b[0;32m     21\u001b[0m info \u001b[39m=\u001b[39m engine\u001b[39m.\u001b[39manalyse(board, chess\u001b[39m.\u001b[39mengine\u001b[39m.\u001b[39mLimit(time\u001b[39m=\u001b[39m\u001b[39m0.1\u001b[39m))\n\u001b[0;32m     22\u001b[0m \u001b[39mprint\u001b[39m(\u001b[39m\"\u001b[39m\u001b[39mScore:\u001b[39m\u001b[39m\"\u001b[39m, info[\u001b[39m\"\u001b[39m\u001b[39mscore\u001b[39m\u001b[39m\"\u001b[39m])\n\u001b[1;32m---> 23\u001b[0m child \u001b[39m=\u001b[39m selfPlay\u001b[39m.\u001b[39;49mpickMove(board, \u001b[39m500\u001b[39;49m)\n\u001b[0;32m     24\u001b[0m move_count \u001b[39m+\u001b[39m\u001b[39m=\u001b[39m \u001b[39m1\u001b[39m\n\u001b[0;32m     25\u001b[0m info \u001b[39m=\u001b[39m engine\u001b[39m.\u001b[39manalyse(board, chess\u001b[39m.\u001b[39mengine\u001b[39m.\u001b[39mLimit(time\u001b[39m=\u001b[39m\u001b[39m0.1\u001b[39m))\n",
      "File \u001b[1;32mc:\\Users\\harry\\OneDrive\\Desktop\\Stuff\\School\\University\\Fifth Year\\SENG 474\\Project\\BetaZero\\play.py:88\u001b[0m, in \u001b[0;36mSelfPlay.pickMove\u001b[1;34m(self, state, iterations)\u001b[0m\n\u001b[0;32m     86\u001b[0m mcts \u001b[39m=\u001b[39m MCTS(\u001b[39mself\u001b[39m\u001b[39m.\u001b[39mmodel)\n\u001b[0;32m     87\u001b[0m node \u001b[39m=\u001b[39m Node(state, \u001b[39mNone\u001b[39;00m)\n\u001b[1;32m---> 88\u001b[0m child \u001b[39m=\u001b[39m mcts\u001b[39m.\u001b[39;49msearch(node, iterations)\n\u001b[0;32m     90\u001b[0m \u001b[39mreturn\u001b[39;00m child\n",
      "File \u001b[1;32mc:\\Users\\harry\\OneDrive\\Desktop\\Stuff\\School\\University\\Fifth Year\\SENG 474\\Project\\BetaZero\\mcts.py:26\u001b[0m, in \u001b[0;36mMCTS.search\u001b[1;34m(self, node, iterations)\u001b[0m\n\u001b[0;32m     24\u001b[0m \u001b[39m# evaluate node\u001b[39;00m\n\u001b[0;32m     25\u001b[0m encodedState \u001b[39m=\u001b[39m stateEncoder(current\u001b[39m.\u001b[39mstate)\n\u001b[1;32m---> 26\u001b[0m value, policy \u001b[39m=\u001b[39m \u001b[39mself\u001b[39;49m\u001b[39m.\u001b[39;49mnn\u001b[39m.\u001b[39;49mpredict(encodedState, verbose\u001b[39m=\u001b[39;49m\u001b[39m0\u001b[39;49m)\n\u001b[0;32m     27\u001b[0m probs \u001b[39m=\u001b[39m policyDecoder(policy[\u001b[39m0\u001b[39m], current\u001b[39m.\u001b[39mstate\u001b[39m.\u001b[39mlegal_moves)\n\u001b[0;32m     29\u001b[0m sumProbs \u001b[39m=\u001b[39m \u001b[39msum\u001b[39m(probs)\n",
      "File \u001b[1;32m~\\AppData\\Local\\Packages\\PythonSoftwareFoundation.Python.3.9_qbz5n2kfra8p0\\LocalCache\\local-packages\\Python39\\site-packages\\keras\\utils\\traceback_utils.py:65\u001b[0m, in \u001b[0;36mfilter_traceback.<locals>.error_handler\u001b[1;34m(*args, **kwargs)\u001b[0m\n\u001b[0;32m     63\u001b[0m filtered_tb \u001b[39m=\u001b[39m \u001b[39mNone\u001b[39;00m\n\u001b[0;32m     64\u001b[0m \u001b[39mtry\u001b[39;00m:\n\u001b[1;32m---> 65\u001b[0m     \u001b[39mreturn\u001b[39;00m fn(\u001b[39m*\u001b[39margs, \u001b[39m*\u001b[39m\u001b[39m*\u001b[39mkwargs)\n\u001b[0;32m     66\u001b[0m \u001b[39mexcept\u001b[39;00m \u001b[39mException\u001b[39;00m \u001b[39mas\u001b[39;00m e:\n\u001b[0;32m     67\u001b[0m     filtered_tb \u001b[39m=\u001b[39m _process_traceback_frames(e\u001b[39m.\u001b[39m__traceback__)\n",
      "File \u001b[1;32m~\\AppData\\Local\\Packages\\PythonSoftwareFoundation.Python.3.9_qbz5n2kfra8p0\\LocalCache\\local-packages\\Python39\\site-packages\\keras\\engine\\training.py:2317\u001b[0m, in \u001b[0;36mModel.predict\u001b[1;34m(self, x, batch_size, verbose, steps, callbacks, max_queue_size, workers, use_multiprocessing)\u001b[0m\n\u001b[0;32m   2308\u001b[0m     \u001b[39mexcept\u001b[39;00m \u001b[39mValueError\u001b[39;00m:\n\u001b[0;32m   2309\u001b[0m         warnings\u001b[39m.\u001b[39mwarn(\n\u001b[0;32m   2310\u001b[0m             \u001b[39m\"\u001b[39m\u001b[39mUsing Model.predict with MultiWorkerMirroredStrategy \u001b[39m\u001b[39m\"\u001b[39m\n\u001b[0;32m   2311\u001b[0m             \u001b[39m\"\u001b[39m\u001b[39mor TPUStrategy and AutoShardPolicy.FILE might lead to \u001b[39m\u001b[39m\"\u001b[39m\n\u001b[1;32m   (...)\u001b[0m\n\u001b[0;32m   2314\u001b[0m             stacklevel\u001b[39m=\u001b[39m\u001b[39m2\u001b[39m,\n\u001b[0;32m   2315\u001b[0m         )\n\u001b[1;32m-> 2317\u001b[0m data_handler \u001b[39m=\u001b[39m data_adapter\u001b[39m.\u001b[39;49mget_data_handler(\n\u001b[0;32m   2318\u001b[0m     x\u001b[39m=\u001b[39;49mx,\n\u001b[0;32m   2319\u001b[0m     batch_size\u001b[39m=\u001b[39;49mbatch_size,\n\u001b[0;32m   2320\u001b[0m     steps_per_epoch\u001b[39m=\u001b[39;49msteps,\n\u001b[0;32m   2321\u001b[0m     initial_epoch\u001b[39m=\u001b[39;49m\u001b[39m0\u001b[39;49m,\n\u001b[0;32m   2322\u001b[0m     epochs\u001b[39m=\u001b[39;49m\u001b[39m1\u001b[39;49m,\n\u001b[0;32m   2323\u001b[0m     max_queue_size\u001b[39m=\u001b[39;49mmax_queue_size,\n\u001b[0;32m   2324\u001b[0m     workers\u001b[39m=\u001b[39;49mworkers,\n\u001b[0;32m   2325\u001b[0m     use_multiprocessing\u001b[39m=\u001b[39;49muse_multiprocessing,\n\u001b[0;32m   2326\u001b[0m     model\u001b[39m=\u001b[39;49m\u001b[39mself\u001b[39;49m,\n\u001b[0;32m   2327\u001b[0m     steps_per_execution\u001b[39m=\u001b[39;49m\u001b[39mself\u001b[39;49m\u001b[39m.\u001b[39;49m_steps_per_execution,\n\u001b[0;32m   2328\u001b[0m )\n\u001b[0;32m   2330\u001b[0m \u001b[39m# Container that configures and calls `tf.keras.Callback`s.\u001b[39;00m\n\u001b[0;32m   2331\u001b[0m \u001b[39mif\u001b[39;00m \u001b[39mnot\u001b[39;00m \u001b[39misinstance\u001b[39m(callbacks, callbacks_module\u001b[39m.\u001b[39mCallbackList):\n",
      "File \u001b[1;32m~\\AppData\\Local\\Packages\\PythonSoftwareFoundation.Python.3.9_qbz5n2kfra8p0\\LocalCache\\local-packages\\Python39\\site-packages\\keras\\engine\\data_adapter.py:1579\u001b[0m, in \u001b[0;36mget_data_handler\u001b[1;34m(*args, **kwargs)\u001b[0m\n\u001b[0;32m   1577\u001b[0m \u001b[39mif\u001b[39;00m \u001b[39mgetattr\u001b[39m(kwargs[\u001b[39m\"\u001b[39m\u001b[39mmodel\u001b[39m\u001b[39m\"\u001b[39m], \u001b[39m\"\u001b[39m\u001b[39m_cluster_coordinator\u001b[39m\u001b[39m\"\u001b[39m, \u001b[39mNone\u001b[39;00m):\n\u001b[0;32m   1578\u001b[0m     \u001b[39mreturn\u001b[39;00m _ClusterCoordinatorDataHandler(\u001b[39m*\u001b[39margs, \u001b[39m*\u001b[39m\u001b[39m*\u001b[39mkwargs)\n\u001b[1;32m-> 1579\u001b[0m \u001b[39mreturn\u001b[39;00m DataHandler(\u001b[39m*\u001b[39margs, \u001b[39m*\u001b[39m\u001b[39m*\u001b[39mkwargs)\n",
      "File \u001b[1;32m~\\AppData\\Local\\Packages\\PythonSoftwareFoundation.Python.3.9_qbz5n2kfra8p0\\LocalCache\\local-packages\\Python39\\site-packages\\keras\\engine\\data_adapter.py:1258\u001b[0m, in \u001b[0;36mDataHandler.__init__\u001b[1;34m(self, x, y, sample_weight, batch_size, steps_per_epoch, initial_epoch, epochs, shuffle, class_weight, max_queue_size, workers, use_multiprocessing, model, steps_per_execution, distribute)\u001b[0m\n\u001b[0;32m   1255\u001b[0m \u001b[39melse\u001b[39;00m:\n\u001b[0;32m   1256\u001b[0m     \u001b[39mself\u001b[39m\u001b[39m.\u001b[39m_steps_per_execution \u001b[39m=\u001b[39m steps_per_execution\n\u001b[1;32m-> 1258\u001b[0m adapter_cls \u001b[39m=\u001b[39m select_data_adapter(x, y)\n\u001b[0;32m   1259\u001b[0m \u001b[39mself\u001b[39m\u001b[39m.\u001b[39m_adapter \u001b[39m=\u001b[39m adapter_cls(\n\u001b[0;32m   1260\u001b[0m     x,\n\u001b[0;32m   1261\u001b[0m     y,\n\u001b[1;32m   (...)\u001b[0m\n\u001b[0;32m   1271\u001b[0m     model\u001b[39m=\u001b[39mmodel,\n\u001b[0;32m   1272\u001b[0m )\n\u001b[0;32m   1274\u001b[0m strategy \u001b[39m=\u001b[39m tf\u001b[39m.\u001b[39mdistribute\u001b[39m.\u001b[39mget_strategy()\n",
      "File \u001b[1;32m~\\AppData\\Local\\Packages\\PythonSoftwareFoundation.Python.3.9_qbz5n2kfra8p0\\LocalCache\\local-packages\\Python39\\site-packages\\keras\\engine\\data_adapter.py:1078\u001b[0m, in \u001b[0;36mselect_data_adapter\u001b[1;34m(x, y)\u001b[0m\n\u001b[0;32m   1076\u001b[0m \u001b[39mdef\u001b[39;00m \u001b[39mselect_data_adapter\u001b[39m(x, y):\n\u001b[0;32m   1077\u001b[0m     \u001b[39m\"\"\"Selects a data adapter that can handle a given x and y.\"\"\"\u001b[39;00m\n\u001b[1;32m-> 1078\u001b[0m     adapter_cls \u001b[39m=\u001b[39m [\u001b[39mcls\u001b[39m \u001b[39mfor\u001b[39;00m \u001b[39mcls\u001b[39m \u001b[39min\u001b[39;00m ALL_ADAPTER_CLS \u001b[39mif\u001b[39;00m \u001b[39mcls\u001b[39m\u001b[39m.\u001b[39mcan_handle(x, y)]\n\u001b[0;32m   1079\u001b[0m     \u001b[39mif\u001b[39;00m \u001b[39mnot\u001b[39;00m adapter_cls:\n\u001b[0;32m   1080\u001b[0m         \u001b[39m# TODO(scottzhu): This should be a less implementation-specific error.\u001b[39;00m\n\u001b[0;32m   1081\u001b[0m         \u001b[39mraise\u001b[39;00m \u001b[39mValueError\u001b[39;00m(\n\u001b[0;32m   1082\u001b[0m             \u001b[39m\"\u001b[39m\u001b[39mFailed to find data adapter that can handle input: \u001b[39m\u001b[39m{}\u001b[39;00m\u001b[39m, \u001b[39m\u001b[39m{}\u001b[39;00m\u001b[39m\"\u001b[39m\u001b[39m.\u001b[39mformat(\n\u001b[0;32m   1083\u001b[0m                 _type_name(x), _type_name(y)\n\u001b[0;32m   1084\u001b[0m             )\n\u001b[0;32m   1085\u001b[0m         )\n",
      "File \u001b[1;32m~\\AppData\\Local\\Packages\\PythonSoftwareFoundation.Python.3.9_qbz5n2kfra8p0\\LocalCache\\local-packages\\Python39\\site-packages\\keras\\engine\\data_adapter.py:1078\u001b[0m, in \u001b[0;36m<listcomp>\u001b[1;34m(.0)\u001b[0m\n\u001b[0;32m   1076\u001b[0m \u001b[39mdef\u001b[39;00m \u001b[39mselect_data_adapter\u001b[39m(x, y):\n\u001b[0;32m   1077\u001b[0m     \u001b[39m\"\"\"Selects a data adapter that can handle a given x and y.\"\"\"\u001b[39;00m\n\u001b[1;32m-> 1078\u001b[0m     adapter_cls \u001b[39m=\u001b[39m [\u001b[39mcls\u001b[39m \u001b[39mfor\u001b[39;00m \u001b[39mcls\u001b[39m \u001b[39min\u001b[39;00m ALL_ADAPTER_CLS \u001b[39mif\u001b[39;00m \u001b[39mcls\u001b[39;49m\u001b[39m.\u001b[39;49mcan_handle(x, y)]\n\u001b[0;32m   1079\u001b[0m     \u001b[39mif\u001b[39;00m \u001b[39mnot\u001b[39;00m adapter_cls:\n\u001b[0;32m   1080\u001b[0m         \u001b[39m# TODO(scottzhu): This should be a less implementation-specific error.\u001b[39;00m\n\u001b[0;32m   1081\u001b[0m         \u001b[39mraise\u001b[39;00m \u001b[39mValueError\u001b[39;00m(\n\u001b[0;32m   1082\u001b[0m             \u001b[39m\"\u001b[39m\u001b[39mFailed to find data adapter that can handle input: \u001b[39m\u001b[39m{}\u001b[39;00m\u001b[39m, \u001b[39m\u001b[39m{}\u001b[39;00m\u001b[39m\"\u001b[39m\u001b[39m.\u001b[39mformat(\n\u001b[0;32m   1083\u001b[0m                 _type_name(x), _type_name(y)\n\u001b[0;32m   1084\u001b[0m             )\n\u001b[0;32m   1085\u001b[0m         )\n",
      "File \u001b[1;32m~\\AppData\\Local\\Packages\\PythonSoftwareFoundation.Python.3.9_qbz5n2kfra8p0\\LocalCache\\local-packages\\Python39\\site-packages\\keras\\engine\\data_adapter.py:605\u001b[0m, in \u001b[0;36mCompositeTensorDataAdapter.can_handle\u001b[1;34m(x, y)\u001b[0m\n\u001b[0;32m    602\u001b[0m         \u001b[39mreturn\u001b[39;00m \u001b[39mTrue\u001b[39;00m\n\u001b[0;32m    603\u001b[0m     \u001b[39mreturn\u001b[39;00m _is_composite(v)\n\u001b[1;32m--> 605\u001b[0m \u001b[39mreturn\u001b[39;00m \u001b[39many\u001b[39;49m(_is_composite(v) \u001b[39mfor\u001b[39;49;00m v \u001b[39min\u001b[39;49;00m flat_inputs) \u001b[39mand\u001b[39;00m \u001b[39mall\u001b[39m(\n\u001b[0;32m    606\u001b[0m     _is_tensor_or_composite(v) \u001b[39mfor\u001b[39;00m v \u001b[39min\u001b[39;00m flat_inputs\n\u001b[0;32m    607\u001b[0m )\n",
      "File \u001b[1;32m~\\AppData\\Local\\Packages\\PythonSoftwareFoundation.Python.3.9_qbz5n2kfra8p0\\LocalCache\\local-packages\\Python39\\site-packages\\keras\\engine\\data_adapter.py:605\u001b[0m, in \u001b[0;36m<genexpr>\u001b[1;34m(.0)\u001b[0m\n\u001b[0;32m    602\u001b[0m         \u001b[39mreturn\u001b[39;00m \u001b[39mTrue\u001b[39;00m\n\u001b[0;32m    603\u001b[0m     \u001b[39mreturn\u001b[39;00m _is_composite(v)\n\u001b[1;32m--> 605\u001b[0m \u001b[39mreturn\u001b[39;00m \u001b[39many\u001b[39m(_is_composite(v) \u001b[39mfor\u001b[39;00m v \u001b[39min\u001b[39;00m flat_inputs) \u001b[39mand\u001b[39;00m \u001b[39mall\u001b[39m(\n\u001b[0;32m    606\u001b[0m     _is_tensor_or_composite(v) \u001b[39mfor\u001b[39;00m v \u001b[39min\u001b[39;00m flat_inputs\n\u001b[0;32m    607\u001b[0m )\n",
      "File \u001b[1;32m~\\AppData\\Local\\Packages\\PythonSoftwareFoundation.Python.3.9_qbz5n2kfra8p0\\LocalCache\\local-packages\\Python39\\site-packages\\keras\\engine\\data_adapter.py:598\u001b[0m, in \u001b[0;36mCompositeTensorDataAdapter.can_handle.<locals>._is_composite\u001b[1;34m(v)\u001b[0m\n\u001b[0;32m    596\u001b[0m     \u001b[39mreturn\u001b[39;00m \u001b[39mTrue\u001b[39;00m\n\u001b[0;32m    597\u001b[0m \u001b[39m# Support Scipy sparse tensors if scipy is installed\u001b[39;00m\n\u001b[1;32m--> 598\u001b[0m \u001b[39mreturn\u001b[39;00m _is_scipy_sparse(v)\n",
      "File \u001b[1;32m~\\AppData\\Local\\Packages\\PythonSoftwareFoundation.Python.3.9_qbz5n2kfra8p0\\LocalCache\\local-packages\\Python39\\site-packages\\keras\\engine\\data_adapter.py:1860\u001b[0m, in \u001b[0;36m_is_scipy_sparse\u001b[1;34m(x)\u001b[0m\n\u001b[0;32m   1858\u001b[0m \u001b[39mdef\u001b[39;00m \u001b[39m_is_scipy_sparse\u001b[39m(x):\n\u001b[0;32m   1859\u001b[0m     \u001b[39mtry\u001b[39;00m:\n\u001b[1;32m-> 1860\u001b[0m         \u001b[39mfrom\u001b[39;00m \u001b[39mscipy\u001b[39;00m\u001b[39m.\u001b[39;00m\u001b[39msparse\u001b[39;00m \u001b[39mimport\u001b[39;00m issparse\n\u001b[0;32m   1862\u001b[0m         \u001b[39mreturn\u001b[39;00m issparse(x)\n\u001b[0;32m   1863\u001b[0m     \u001b[39mexcept\u001b[39;00m \u001b[39mImportError\u001b[39;00m:\n",
      "File \u001b[1;32m<frozen importlib._bootstrap>:1007\u001b[0m, in \u001b[0;36m_find_and_load\u001b[1;34m(name, import_)\u001b[0m\n",
      "File \u001b[1;32m<frozen importlib._bootstrap>:982\u001b[0m, in \u001b[0;36m_find_and_load_unlocked\u001b[1;34m(name, import_)\u001b[0m\n",
      "File \u001b[1;32m<frozen importlib._bootstrap>:925\u001b[0m, in \u001b[0;36m_find_spec\u001b[1;34m(name, path, target)\u001b[0m\n",
      "File \u001b[1;32m<frozen importlib._bootstrap_external>:1423\u001b[0m, in \u001b[0;36mfind_spec\u001b[1;34m(cls, fullname, path, target)\u001b[0m\n",
      "File \u001b[1;32m<frozen importlib._bootstrap_external>:1395\u001b[0m, in \u001b[0;36m_get_spec\u001b[1;34m(cls, fullname, path, target)\u001b[0m\n",
      "File \u001b[1;32m<frozen importlib._bootstrap_external>:1522\u001b[0m, in \u001b[0;36mfind_spec\u001b[1;34m(self, fullname, target)\u001b[0m\n",
      "File \u001b[1;32m<frozen importlib._bootstrap_external>:142\u001b[0m, in \u001b[0;36m_path_stat\u001b[1;34m(path)\u001b[0m\n",
      "\u001b[1;31mKeyboardInterrupt\u001b[0m: "
     ]
    }
   ],
   "source": [
    "import chess\n",
    "from chess import svg\n",
    "import numpy as np\n",
    "from play import SelfPlay\n",
    "from keras.models import load_model\n",
    "import chess.engine\n",
    "from utils import softmax_cross_entropy_with_logits\n",
    "\n",
    "def printDetails(board, engine):\n",
    "    info = engine.analyse(board, chess.engine.Limit(time=0.1))\n",
    "    print(\"Score:\", info[\"score\"])\n",
    "    print(board)\n",
    "\n",
    "engine = chess.engine.SimpleEngine.popen_uci(r\"C:\\Users\\harry\\Downloads\\stockfish\\stockfish.exe\")\n",
    "\n",
    "model = load_model('bestModel.h5', custom_objects={'softmax_cross_entropy_with_logits': softmax_cross_entropy_with_logits})\n",
    "selfPlay = SelfPlay(model)\n",
    "\n",
    "board = chess.Board()\n",
    "\n",
    "svg.board(board, size=350)\n",
    "\n",
    "move_count = 0\n",
    "while not board.is_game_over():\n",
    "    # our ai makes move\n",
    "    child = selfPlay.pickMove(board, 500)\n",
    "    board.push(child.move)\n",
    "\n",
    "    printDetails(board, engine)\n",
    "    move_count += 1\n",
    "\n",
    "    # stockfish makes a move\n",
    "    result = engine.play(board, chess.engine.Limit(time=0.1))\n",
    "    board.push(result.move)\n",
    "\n",
    "    printDetails(board, engine)\n",
    "    move_count += 1\n",
    "\n",
    "print(move_count)\n",
    "svg.board(board, size=350)"
   ]
  }
 ],
 "metadata": {
  "kernelspec": {
   "display_name": "Python 3.9.13 64-bit (microsoft store)",
   "language": "python",
   "name": "python3"
  },
  "language_info": {
   "codemirror_mode": {
    "name": "ipython",
    "version": 3
   },
   "file_extension": ".py",
   "mimetype": "text/x-python",
   "name": "python",
   "nbconvert_exporter": "python",
   "pygments_lexer": "ipython3",
   "version": "3.9.13"
  },
  "orig_nbformat": 4,
  "vscode": {
   "interpreter": {
    "hash": "a8fc5f4be5aeb4c2f7e9bc939b74a7fe16a549ac8816bf19dcfbca8b4887a582"
   }
  }
 },
 "nbformat": 4,
 "nbformat_minor": 2
}
